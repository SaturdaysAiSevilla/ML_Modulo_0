{
 "cells": [
  {
   "cell_type": "markdown",
   "metadata": {
    "lang": "en",
    "toc": true
   },
   "source": [
    "<h1>Table of Contents<span class=\"tocSkip\"></span></h1>\n",
    "<div class=\"toc\"><ul class=\"toc-item\"><li><span><a href=\"#¡Empecemos!\" data-toc-modified-id=\"¡Empecemos!-1\"><span class=\"toc-item-num\">1&nbsp;&nbsp;</span>¡Empecemos!</a></span></li><li><span><a href=\"#Tipos-de-datos-básicos:-números,-booleanos-y-cadenas\" data-toc-modified-id=\"Tipos-de-datos-básicos:-números,-booleanos-y-cadenas-2\"><span class=\"toc-item-num\">2&nbsp;&nbsp;</span>Tipos de datos básicos: números, booleanos y cadenas</a></span><ul class=\"toc-item\"><li><span><a href=\"#Numérico\" data-toc-modified-id=\"Numérico-2.1\"><span class=\"toc-item-num\">2.1&nbsp;&nbsp;</span>Numérico</a></span><ul class=\"toc-item\"><li><span><a href=\"#Operadores-matemáticos:-+,--,-\\-,-/,-*Los-operadores-matemáticos-le-permiten-realizar-operaciones-matemáticas.\" data-toc-modified-id=\"Operadores-matemáticos:-+,--,-\\-,-/,-*Los-operadores-matemáticos-le-permiten-realizar-operaciones-matemáticas.-2.1.1\"><span class=\"toc-item-num\">2.1.1&nbsp;&nbsp;</span>Operadores matemáticos: +, -, \\ <em>, /,</em> *Los operadores matemáticos le permiten realizar operaciones matemáticas.</a></span></li><li><span><a href=\"#Operadores-matemáticos-abreviados\" data-toc-modified-id=\"Operadores-matemáticos-abreviados-2.1.2\"><span class=\"toc-item-num\">2.1.2&nbsp;&nbsp;</span>Operadores matemáticos abreviados</a></span></li></ul></li><li><span><a href=\"#Booleanos-y-operadores-lógicos\" data-toc-modified-id=\"Booleanos-y-operadores-lógicos-2.2\"><span class=\"toc-item-num\">2.2&nbsp;&nbsp;</span>Booleanos y operadores lógicos</a></span><ul class=\"toc-item\"><li><span><a href=\"#Operadores-logicos\" data-toc-modified-id=\"Operadores-logicos-2.2.1\"><span class=\"toc-item-num\">2.2.1&nbsp;&nbsp;</span>Operadores logicos</a></span></li></ul></li><li><span><a href=\"#1.3-Cuerdas\" data-toc-modified-id=\"1.3-Cuerdas-2.3\"><span class=\"toc-item-num\">2.3&nbsp;&nbsp;</span>1.3 Cuerdas</a></span><ul class=\"toc-item\"><li><span><a href=\"#Métodos-de-cadena\" data-toc-modified-id=\"Métodos-de-cadena-2.3.1\"><span class=\"toc-item-num\">2.3.1&nbsp;&nbsp;</span>Métodos de cadena</a></span></li></ul></li></ul></li><li><span><a href=\"#Tipos-de-datos-de-contenedor\" data-toc-modified-id=\"Tipos-de-datos-de-contenedor-3\"><span class=\"toc-item-num\">3&nbsp;&nbsp;</span>Tipos de datos de contenedor</a></span><ul class=\"toc-item\"><li><span><a href=\"#Listas\" data-toc-modified-id=\"Listas-3.1\"><span class=\"toc-item-num\">3.1&nbsp;&nbsp;</span>Listas</a></span></li><li><span><a href=\"#Tuplas\" data-toc-modified-id=\"Tuplas-3.2\"><span class=\"toc-item-num\">3.2&nbsp;&nbsp;</span>Tuplas</a></span></li><li><span><a href=\"#Diccionarios\" data-toc-modified-id=\"Diccionarios-3.3\"><span class=\"toc-item-num\">3.3&nbsp;&nbsp;</span>Diccionarios</a></span></li><li><span><a href=\"#Conjuntos\" data-toc-modified-id=\"Conjuntos-3.4\"><span class=\"toc-item-num\">3.4&nbsp;&nbsp;</span>Conjuntos</a></span></li></ul></li><li><span><a href=\"#3.-Funciones\" data-toc-modified-id=\"3.-Funciones-4\"><span class=\"toc-item-num\">4&nbsp;&nbsp;</span>3. Funciones</a></span></li><li><span><a href=\"#Flujo-de-control\" data-toc-modified-id=\"Flujo-de-control-5\"><span class=\"toc-item-num\">5&nbsp;&nbsp;</span>Flujo de control</a></span><ul class=\"toc-item\"><li><span><a href=\"#If/Else\" data-toc-modified-id=\"If/Else-5.1\"><span class=\"toc-item-num\">5.1&nbsp;&nbsp;</span>If/Else</a></span></li><li><span><a href=\"#Bucles\" data-toc-modified-id=\"Bucles-5.2\"><span class=\"toc-item-num\">5.2&nbsp;&nbsp;</span>Bucles</a></span><ul class=\"toc-item\"><li><span><a href=\"#bucles-'while'\" data-toc-modified-id=\"bucles-'while'-5.2.1\"><span class=\"toc-item-num\">5.2.1&nbsp;&nbsp;</span>bucles 'while'</a></span></li><li><span><a href=\"#bucles-'for'\" data-toc-modified-id=\"bucles-'for'-5.2.2\"><span class=\"toc-item-num\">5.2.2&nbsp;&nbsp;</span>bucles 'for'</a></span></li><li><span><a href=\"#Lista-/-comprensión-dict\" data-toc-modified-id=\"Lista-/-comprensión-dict-5.2.3\"><span class=\"toc-item-num\">5.2.3&nbsp;&nbsp;</span>Lista / comprensión dict</a></span></li></ul></li></ul></li></ul></div>"
   ]
  },
  {
   "cell_type": "markdown",
   "metadata": {
    "lang": "en"
   },
   "source": [
    "Please note that we are using Python 3.7    \n",
    "(__NOT__ Python 2! Python 2 is dead)"
   ]
  },
  {
   "cell_type": "code",
   "execution_count": 3,
   "metadata": {},
   "outputs": [
    {
     "name": "stdout",
     "output_type": "stream",
     "text": [
      "3.7.6 (default, Jan  8 2020, 20:23:39) [MSC v.1916 64 bit (AMD64)]\n"
     ]
    }
   ],
   "source": [
    "# Let's make sure we are using Python 3\n",
    "import sys\n",
    "print(sys.version)"
   ]
  },
  {
   "cell_type": "markdown",
   "metadata": {
    "lang": "en"
   },
   "source": [
    "# Let's start!"
   ]
  },
  {
   "cell_type": "code",
   "execution_count": 12,
   "metadata": {},
   "outputs": [
    {
     "name": "stdout",
     "output_type": "stream",
     "text": [
      "Hello AiSaturdays!\n"
     ]
    }
   ],
   "source": [
    "print('Hello AiSaturdays!')"
   ]
  },
  {
   "cell_type": "markdown",
   "metadata": {
    "lang": "en"
   },
   "source": [
    "`print` is a built-in function. We will use it several times. "
   ]
  },
  {
   "cell_type": "markdown",
   "metadata": {
    "lang": "en"
   },
   "source": [
    "# Basic Data Types: Numbers, Booleans, and Strings\n",
    "\n",
    "Basic data types in python3 are:\n",
    "https://realpython.com/python-data-types/\n",
    "\n",
    "- Numeric: Integers, float and complex numbers\n",
    "- Text: Strings\n",
    "- Logic: Boolean"
   ]
  },
  {
   "cell_type": "markdown",
   "metadata": {
    "lang": "en"
   },
   "source": [
    "## Numeric\n",
    "\n",
    "Note: \n",
    "- Use the `type()` function to get the type of a variable\n",
    "- Numbers can be integers ('int'), such as 3, 5 and 3049\n",
    "- Decimal numbers are floats ('float'), such as 2.5, 3.1, and 2.34938493\n",
    "- Imaginary numbers are defined by the letter `j` "
   ]
  },
  {
   "cell_type": "code",
   "execution_count": 15,
   "metadata": {},
   "outputs": [
    {
     "name": "stdout",
     "output_type": "stream",
     "text": [
      "<class 'int'>\n",
      "5\n",
      "<class 'float'>\n",
      "2.3\n",
      "<class 'complex'>\n",
      "2j\n"
     ]
    }
   ],
   "source": [
    "a_int = 5\n",
    "print(type(a_int))\n",
    "print(a_int)\n",
    "\n",
    "a_float = 2.3\n",
    "print(type(a_float))\n",
    "print(a_float)\n",
    "\n",
    "a_img = 2j\n",
    "print(type(a_img))\n",
    "print(a_img)"
   ]
  },
  {
   "cell_type": "markdown",
   "metadata": {
    "lang": "en"
   },
   "source": [
    "### Mathematical Operators: +, -, \\*, /, **\n",
    "Mathematical operators allow you to perform math operations.\n",
    "\n",
    "Note: ** is the exponentiation operator"
   ]
  },
  {
   "cell_type": "code",
   "execution_count": 7,
   "metadata": {},
   "outputs": [
    {
     "name": "stdout",
     "output_type": "stream",
     "text": [
      "3\n",
      "1\n",
      "4\n",
      "1.0\n",
      "4\n"
     ]
    }
   ],
   "source": [
    "a = 2\n",
    "b = a + 1\n",
    "print(b)\n",
    "c = a - 1\n",
    "print(c)\n",
    "d = a * 2\n",
    "print(d)\n",
    "e = a / 2\n",
    "print(e)\n",
    "\n",
    "f = a ** 2\n",
    "print(f)"
   ]
  },
  {
   "cell_type": "markdown",
   "metadata": {
    "lang": "en"
   },
   "source": [
    "### Shorthand mathematical operators\n",
    "`a += 1` is shorthand for `a = a + 1`"
   ]
  },
  {
   "cell_type": "code",
   "execution_count": 18,
   "metadata": {},
   "outputs": [
    {
     "name": "stdout",
     "output_type": "stream",
     "text": [
      "6\n",
      "12\n",
      "3.0\n",
      "1.0\n"
     ]
    }
   ],
   "source": [
    "a = 5\n",
    "a += 1\n",
    "print(a)\n",
    "a *= 2\n",
    "print(a)\n",
    "a /= 4\n",
    "print(a)\n",
    "a -= 2\n",
    "print(a)"
   ]
  },
  {
   "cell_type": "markdown",
   "metadata": {
    "pycharm": {
     "name": "#%% md\n"
    }
   },
   "source": [
    "<div class=\"alert alert-block alert-danger\">\n",
    "<b>Warning :</b> `+=` it's not the same as `=+`. \n",
    "</div>"
   ]
  },
  {
   "cell_type": "code",
   "execution_count": 25,
   "metadata": {},
   "outputs": [
    {
     "name": "stdout",
     "output_type": "stream",
     "text": [
      "1.0\n"
     ]
    }
   ],
   "source": [
    "print(f'{a}')"
   ]
  },
  {
   "cell_type": "code",
   "execution_count": 29,
   "metadata": {},
   "outputs": [
    {
     "name": "stdout",
     "output_type": "stream",
     "text": [
      "5\n"
     ]
    }
   ],
   "source": [
    "a = 1\n",
    "a += 4\n",
    "print(a)"
   ]
  },
  {
   "cell_type": "code",
   "execution_count": 30,
   "metadata": {},
   "outputs": [
    {
     "name": "stdout",
     "output_type": "stream",
     "text": [
      "4\n"
     ]
    }
   ],
   "source": [
    "a = 1\n",
    "a =+ 4\n",
    "print(a)"
   ]
  },
  {
   "cell_type": "markdown",
   "metadata": {
    "lang": "en"
   },
   "source": [
    "## Booleans & Logic Operators"
   ]
  },
  {
   "cell_type": "code",
   "execution_count": 31,
   "metadata": {},
   "outputs": [
    {
     "name": "stdout",
     "output_type": "stream",
     "text": [
      "<class 'bool'>\n",
      "True\n"
     ]
    }
   ],
   "source": [
    "im_true = True\n",
    "im_false = False\n",
    "\n",
    "print(type(im_true))\n",
    "print(im_true)"
   ]
  },
  {
   "cell_type": "markdown",
   "metadata": {
    "lang": "en"
   },
   "source": [
    "### Logical operators\n",
    "Logical operators (`==` and `!=`) allow you to compare the values of variables on the left and right hand side."
   ]
  },
  {
   "cell_type": "code",
   "execution_count": 32,
   "metadata": {},
   "outputs": [
    {
     "name": "stdout",
     "output_type": "stream",
     "text": [
      "False\n",
      "True\n"
     ]
    }
   ],
   "source": [
    "print(im_true == im_false)\n",
    "print(im_true != im_false)"
   ]
  },
  {
   "cell_type": "markdown",
   "metadata": {},
   "source": [
    "The `and` operator will return `True` only if both elements are `True`."
   ]
  },
  {
   "cell_type": "code",
   "execution_count": 33,
   "metadata": {},
   "outputs": [
    {
     "name": "stdout",
     "output_type": "stream",
     "text": [
      "False\n"
     ]
    }
   ],
   "source": [
    "print(im_true and im_false)"
   ]
  },
  {
   "cell_type": "markdown",
   "metadata": {},
   "source": [
    "The `or` operator will return `True` if  any of the variables are `True`."
   ]
  },
  {
   "cell_type": "code",
   "execution_count": 34,
   "metadata": {},
   "outputs": [
    {
     "name": "stdout",
     "output_type": "stream",
     "text": [
      "True\n"
     ]
    }
   ],
   "source": [
    "print(im_true or im_false)"
   ]
  },
  {
   "cell_type": "code",
   "execution_count": 37,
   "metadata": {},
   "outputs": [
    {
     "data": {
      "text/plain": [
       "2"
      ]
     },
     "execution_count": 37,
     "metadata": {},
     "output_type": "execute_result"
    }
   ],
   "source": [
    "im_true + im_true"
   ]
  },
  {
   "cell_type": "markdown",
   "metadata": {
    "lang": "en"
   },
   "source": [
    "<div class=\"alert alert-block alert-danger\">\n",
    "<b>Warning :</b> Logical True often are treated like integer 1, and False as 0. Using math operations, eg `+`:\n",
    "    True+True wil be 2. \n",
    "</div>"
   ]
  },
  {
   "cell_type": "code",
   "execution_count": 43,
   "metadata": {},
   "outputs": [
    {
     "data": {
      "text/plain": [
       "2"
      ]
     },
     "execution_count": 43,
     "metadata": {},
     "output_type": "execute_result"
    }
   ],
   "source": [
    "True + True"
   ]
  },
  {
   "cell_type": "code",
   "execution_count": 44,
   "metadata": {},
   "outputs": [
    {
     "data": {
      "text/plain": [
       "True"
      ]
     },
     "execution_count": 44,
     "metadata": {},
     "output_type": "execute_result"
    }
   ],
   "source": [
    "True and True"
   ]
  },
  {
   "cell_type": "code",
   "execution_count": 46,
   "metadata": {},
   "outputs": [
    {
     "data": {
      "text/plain": [
       "1"
      ]
     },
     "execution_count": 46,
     "metadata": {},
     "output_type": "execute_result"
    }
   ],
   "source": [
    "True + False"
   ]
  },
  {
   "cell_type": "code",
   "execution_count": 47,
   "metadata": {},
   "outputs": [
    {
     "data": {
      "text/plain": [
       "False"
      ]
     },
     "execution_count": 47,
     "metadata": {},
     "output_type": "execute_result"
    }
   ],
   "source": [
    "True and False"
   ]
  },
  {
   "cell_type": "markdown",
   "metadata": {
    "lang": "en"
   },
   "source": [
    "## 1.3 Strings\n",
    "You can use single or double quotes for strings."
   ]
  },
  {
   "cell_type": "markdown",
   "metadata": {},
   "source": [
    "my_string = 'Ai'\n",
    "my_other_string = \"Saturdays\"\n",
    "print(my_string, my_other_string)"
   ]
  },
  {
   "cell_type": "markdown",
   "metadata": {
    "lang": "en"
   },
   "source": [
    "### String methods\n",
    "Concatenating strings:"
   ]
  },
  {
   "cell_type": "code",
   "execution_count": 52,
   "metadata": {},
   "outputs": [
    {
     "name": "stdout",
     "output_type": "stream",
     "text": [
      "HelloAiSaturdays\n"
     ]
    }
   ],
   "source": [
    "another_string = 'Hello' + my_string + my_other_string\n",
    "print(another_string)"
   ]
  },
  {
   "cell_type": "markdown",
   "metadata": {
    "lang": "en"
   },
   "source": [
    "<div class=\"alert alert-block alert-warning\">\n",
    "<b> Be aware of the spaces. </b>\n",
    "</div>"
   ]
  },
  {
   "cell_type": "code",
   "execution_count": 51,
   "metadata": {},
   "outputs": [
    {
     "name": "stdout",
     "output_type": "stream",
     "text": [
      "hello, Ai Saturdays\n"
     ]
    }
   ],
   "source": [
    "another_string = 'Hello, ' + my_string + \" \" + my_other_string\n",
    "print(another_string)"
   ]
  },
  {
   "cell_type": "markdown",
   "metadata": {
    "lang": "en"
   },
   "source": [
    "Get the length of the string:"
   ]
  },
  {
   "cell_type": "code",
   "execution_count": 11,
   "metadata": {},
   "outputs": [
    {
     "name": "stdout",
     "output_type": "stream",
     "text": [
      "22\n"
     ]
    }
   ],
   "source": [
    "print(len(another_string))"
   ]
  },
  {
   "cell_type": "markdown",
   "metadata": {
    "lang": "en"
   },
   "source": [
    "`len`is another built-in function"
   ]
  },
  {
   "cell_type": "markdown",
   "metadata": {
    "lang": "en"
   },
   "source": [
    "Strings can be multiplied. "
   ]
  },
  {
   "cell_type": "code",
   "execution_count": null,
   "metadata": {},
   "outputs": [],
   "source": []
  },
  {
   "cell_type": "markdown",
   "metadata": {
    "lang": "en"
   },
   "source": [
    "# Container Data Types\n",
    "\n",
    "Some built-in containers are\n",
    "- List and Tuples \n",
    "- Set\n",
    "- Dict\n",
    "\n",
    "They can be divided in mutable or immutable:\n",
    "\n",
    "- Immutables: Tuples \n",
    "- Mutable: list, dict and sets. \n",
    "\n",
    "\n",
    "## Lists\n",
    "A Python `list` stores multiple elements, which types can be different."
   ]
  },
  {
   "cell_type": "code",
   "execution_count": 56,
   "metadata": {},
   "outputs": [
    {
     "name": "stdout",
     "output_type": "stream",
     "text": [
      "['a', 'b', 'c', 3485]\n"
     ]
    }
   ],
   "source": [
    "my_list = ['a', 'b', 'c', 3485]\n",
    "print(my_list)"
   ]
  },
  {
   "cell_type": "markdown",
   "metadata": {
    "lang": "en"
   },
   "source": [
    "You can access an element in a list with the following syntax:"
   ]
  },
  {
   "cell_type": "markdown",
   "metadata": {
    "lang": "en"
   },
   "source": [
    "<div class=\"alert alert-block alert-info\">\n",
    "<b>Note :</b> the first element in a list has an index of zero.\n",
    "</div>\n"
   ]
  },
  {
   "cell_type": "code",
   "execution_count": 57,
   "metadata": {},
   "outputs": [
    {
     "name": "stdout",
     "output_type": "stream",
     "text": [
      "c\n",
      "a\n"
     ]
    }
   ],
   "source": [
    "print(my_list[2])\n",
    "print(my_list[0])"
   ]
  },
  {
   "cell_type": "markdown",
   "metadata": {
    "lang": "en"
   },
   "source": [
    "Reassigning elements in a list:"
   ]
  },
  {
   "cell_type": "code",
   "execution_count": 58,
   "metadata": {},
   "outputs": [
    {
     "name": "stdout",
     "output_type": "stream",
     "text": [
      "['Ai', 'b', 'c', 3485]\n"
     ]
    }
   ],
   "source": [
    "my_list[0] = 'Ai'\n",
    "print(my_list)"
   ]
  },
  {
   "cell_type": "markdown",
   "metadata": {
    "lang": "en"
   },
   "source": [
    "Adding/removing elements from a list:"
   ]
  },
  {
   "cell_type": "code",
   "execution_count": 59,
   "metadata": {},
   "outputs": [
    {
     "name": "stdout",
     "output_type": "stream",
     "text": [
      "['Ai', 'b', 'c', 3485, 'Saturdays']\n",
      "['Ai', 'b', 'c', 3485]\n"
     ]
    }
   ],
   "source": [
    "my_list.append('Saturdays')\n",
    "print(my_list)\n",
    "\n",
    "my_list.pop()\n",
    "print(my_list)"
   ]
  },
  {
   "cell_type": "markdown",
   "metadata": {
    "lang": "en"
   },
   "source": [
    "Accessing multiple elements in a list:"
   ]
  },
  {
   "cell_type": "code",
   "execution_count": 16,
   "metadata": {},
   "outputs": [
    {
     "name": "stdout",
     "output_type": "stream",
     "text": [
      "['delta', 'b']\n",
      "['c', 3485]\n",
      "['delta', 'b']\n"
     ]
    }
   ],
   "source": [
    "print(my_list[0:2]) # Access elements in index 0, 1 and 2\n",
    "print(my_list[2:]) # Access elements from index 2 to the end\n",
    "print(my_list[:2]) # Access elements from the beginning to index 2"
   ]
  },
  {
   "cell_type": "markdown",
   "metadata": {
    "lang": "en"
   },
   "source": [
    "## Tuples\n",
    "A tuple is a sequence of immutable Python objects. Tuples are sequences, just like lists. The differences between tuples and lists are, the tuples cannot be changed unlike lists and tuples use parentheses, whereas lists use square brackets. "
   ]
  },
  {
   "cell_type": "code",
   "execution_count": 60,
   "metadata": {
    "pycharm": {
     "name": "#%% \n"
    }
   },
   "outputs": [
    {
     "name": "stdout",
     "output_type": "stream",
     "text": [
      "(2, 'a')\n",
      "2\n",
      "<class 'tuple'>\n"
     ]
    }
   ],
   "source": [
    "a = (2, 'a')\n",
    "print(a)\n",
    "\n",
    "print(a[0])\n",
    "print(type(a))"
   ]
  },
  {
   "cell_type": "markdown",
   "metadata": {
    "lang": "en",
    "pycharm": {
     "name": "#%% md\n"
    }
   },
   "source": [
    "To access all properties and methods of an object, use the built-in function `dir`."
   ]
  },
  {
   "cell_type": "code",
   "execution_count": 63,
   "metadata": {
    "pycharm": {
     "name": "#%% \n"
    }
   },
   "outputs": [
    {
     "data": {
      "text/plain": [
       "['__add__',\n",
       " '__class__',\n",
       " '__contains__',\n",
       " '__delattr__',\n",
       " '__dir__',\n",
       " '__doc__',\n",
       " '__eq__',\n",
       " '__format__',\n",
       " '__ge__',\n",
       " '__getattribute__',\n",
       " '__getitem__',\n",
       " '__getnewargs__',\n",
       " '__gt__',\n",
       " '__hash__',\n",
       " '__init__',\n",
       " '__init_subclass__',\n",
       " '__iter__',\n",
       " '__le__',\n",
       " '__len__',\n",
       " '__lt__',\n",
       " '__mul__',\n",
       " '__ne__',\n",
       " '__new__',\n",
       " '__reduce__',\n",
       " '__reduce_ex__',\n",
       " '__repr__',\n",
       " '__rmul__',\n",
       " '__setattr__',\n",
       " '__sizeof__',\n",
       " '__str__',\n",
       " '__subclasshook__',\n",
       " 'count',\n",
       " 'index']"
      ]
     },
     "execution_count": 63,
     "metadata": {},
     "output_type": "execute_result"
    }
   ],
   "source": [
    "dir(a)"
   ]
  },
  {
   "cell_type": "markdown",
   "metadata": {
    "lang": "en",
    "pycharm": {
     "name": "#%% md\n"
    }
   },
   "source": [
    "## Dictionaries\n",
    "Dictionaries hold key/value pairs and are useful for storing information."
   ]
  },
  {
   "cell_type": "code",
   "execution_count": 65,
   "metadata": {},
   "outputs": [
    {
     "data": {
      "text/plain": [
       "{'key_one': 'Ai', 'key_two': 'Saturdays'}"
      ]
     },
     "execution_count": 65,
     "metadata": {},
     "output_type": "execute_result"
    }
   ],
   "source": [
    "my_dict = { 'key_one': 'Ai', 'key_two': 'Saturdays' }\n",
    "my_dict"
   ]
  },
  {
   "cell_type": "markdown",
   "metadata": {
    "lang": "en"
   },
   "source": [
    "Access a value from a dictionary by a key:"
   ]
  },
  {
   "cell_type": "code",
   "execution_count": 66,
   "metadata": {},
   "outputs": [
    {
     "name": "stdout",
     "output_type": "stream",
     "text": [
      "Ai\n",
      "Saturdays\n"
     ]
    }
   ],
   "source": [
    "print(my_dict['key_one'])\n",
    "print(my_dict['key_two'])"
   ]
  },
  {
   "cell_type": "markdown",
   "metadata": {
    "lang": "en"
   },
   "source": [
    "Looping over values of a dictionary:\n",
    "\n",
    "<div class=\"alert alert-block alert-info\">\n",
    "<b>Note :</b>  check next sections below for info about loops.\n",
    "</div>\n"
   ]
  },
  {
   "cell_type": "code",
   "execution_count": 69,
   "metadata": {},
   "outputs": [
    {
     "name": "stdout",
     "output_type": "stream",
     "text": [
      "The key is key_one\n",
      "The key is key_two\n"
     ]
    }
   ],
   "source": [
    "for key in my_dict:\n",
    "    print(\"The key is \" + key)"
   ]
  },
  {
   "cell_type": "code",
   "execution_count": 70,
   "metadata": {},
   "outputs": [
    {
     "name": "stdout",
     "output_type": "stream",
     "text": [
      "The key is key_one, and the value is Ai\n",
      "The key is key_two, and the value is Saturdays\n"
     ]
    }
   ],
   "source": [
    "for key, value in my_dict.items():\n",
    "    print(\"The key is \" + key + \", and the value is \" + value)"
   ]
  },
  {
   "cell_type": "markdown",
   "metadata": {
    "lang": "en"
   },
   "source": [
    "## Sets\n",
    "Sets are similar to lists, but can only contain unique values."
   ]
  },
  {
   "cell_type": "code",
   "execution_count": 72,
   "metadata": {},
   "outputs": [
    {
     "name": "stdout",
     "output_type": "stream",
     "text": [
      "{'hello', 1, 2, 3}\n"
     ]
    }
   ],
   "source": [
    "my_set = {1, 2, 3, 3, 3, 3, 'hello'}\n",
    "print(my_set)"
   ]
  },
  {
   "cell_type": "markdown",
   "metadata": {
    "lang": "en"
   },
   "source": [
    "When defining a set with the same value present multiple times, only one element will be added to the set."
   ]
  },
  {
   "cell_type": "markdown",
   "metadata": {
    "lang": "en"
   },
   "source": [
    "# 3. Functions\n",
    "A function is a block of reusable code that performs a certain action. Once you've defined a function, you can use it anywhere in your code!"
   ]
  },
  {
   "cell_type": "markdown",
   "metadata": {
    "lang": "en"
   },
   "source": [
    "Defining a function:"
   ]
  },
  {
   "cell_type": "code",
   "execution_count": 73,
   "metadata": {
    "pycharm": {
     "name": "#%%\n"
    }
   },
   "outputs": [],
   "source": [
    "def am_i_happy(happiness_level):\n",
    "    \"\"\" Function that prints if I'm happy or not.\"\"\"\n",
    "    \n",
    "    if happiness_level >= 10:\n",
    "        return \"I'm very happy.\"\n",
    "    elif happiness_level >= 5:\n",
    "        return \"I'm happy.\"\n",
    "    else:\n",
    "        return \"I am not happy.\""
   ]
  },
  {
   "cell_type": "markdown",
   "metadata": {
    "lang": "en"
   },
   "source": [
    "Calling a function:"
   ]
  },
  {
   "cell_type": "code",
   "execution_count": 74,
   "metadata": {},
   "outputs": [
    {
     "name": "stdout",
     "output_type": "stream",
     "text": [
      "I am not happy.\n"
     ]
    }
   ],
   "source": [
    "print(am_i_happy(0))"
   ]
  },
  {
   "cell_type": "code",
   "execution_count": 75,
   "metadata": {},
   "outputs": [
    {
     "name": "stdout",
     "output_type": "stream",
     "text": [
      "I'm happy.\n"
     ]
    }
   ],
   "source": [
    "print(am_i_happy(5))"
   ]
  },
  {
   "cell_type": "markdown",
   "metadata": {
    "lang": "en"
   },
   "source": [
    "# Control Flow\n",
    "\n",
    "There are several control flow sentences. The basics are:\n",
    "\n",
    "- If/else statement:\n",
    "- Loops\n",
    "    * For loops\n",
    "    * List comprehension\n",
    "    * While loops"
   ]
  },
  {
   "cell_type": "markdown",
   "metadata": {},
   "source": [
    "## If/Else"
   ]
  },
  {
   "cell_type": "code",
   "execution_count": 26,
   "metadata": {},
   "outputs": [
    {
     "name": "stdout",
     "output_type": "stream",
     "text": [
      "Take a nap\n"
     ]
    }
   ],
   "source": [
    "sleepy = True\n",
    "hungry = False\n",
    "\n",
    "if sleepy and hungry:\n",
    "    print(\"Eat a snack and take a nap.\")\n",
    "elif sleepy and not hungry:\n",
    "    print(\"Take a nap\")\n",
    "elif hungry and not sleepy:\n",
    "    print(\"Eat a snack\")\n",
    "else:\n",
    "    print(\"Go on with your day\")"
   ]
  },
  {
   "cell_type": "markdown",
   "metadata": {
    "lang": "en"
   },
   "source": [
    "## Loops\n",
    "Iterate over iterables objects, such as strings, arrays, range, list, tuples, sets, dicts. \n",
    "\n",
    "### 'while' loops\n",
    "\n",
    "While loops run until a exit condition is reached. "
   ]
  },
  {
   "cell_type": "code",
   "execution_count": 78,
   "metadata": {},
   "outputs": [
    {
     "name": "stdout",
     "output_type": "stream",
     "text": [
      "You have counted to 0\n",
      "You have counted to 1\n",
      "You have counted to 2\n",
      "You have counted to 3\n",
      "You have counted to 4\n",
      "You have counted to 5\n",
      "You have counted to 6\n",
      "You have counted to 7\n",
      "You have counted to 8\n",
      "You have counted to 9\n",
      "You're finished counting.\n"
     ]
    }
   ],
   "source": [
    "counter = 0\n",
    "while (counter < 10): # this is the exit condition\n",
    "    print(\"You have counted to\", counter)\n",
    "    counter = counter + 1 # Increment the counter\n",
    "    \n",
    "print(\"You're finished counting.\")"
   ]
  },
  {
   "cell_type": "markdown",
   "metadata": {
    "lang": "en"
   },
   "source": [
    "### 'for' loops\n",
    "Loop over a list:"
   ]
  },
  {
   "cell_type": "code",
   "execution_count": 79,
   "metadata": {},
   "outputs": [
    {
     "name": "stdout",
     "output_type": "stream",
     "text": [
      "cats are cool\n",
      "dogs are cool\n",
      "lions are cool\n",
      "bears are cool\n"
     ]
    }
   ],
   "source": [
    "cool_animals = ['cat', 'dog', 'lion', 'bear']\n",
    "for animal in cool_animals:\n",
    "    print(animal + \"s are cool\")"
   ]
  },
  {
   "cell_type": "markdown",
   "metadata": {},
   "source": [
    "Loop over a dict:"
   ]
  },
  {
   "cell_type": "code",
   "execution_count": 80,
   "metadata": {},
   "outputs": [
    {
     "name": "stdout",
     "output_type": "stream",
     "text": [
      "The dog says bark!\n",
      "The cat says meow!\n",
      "The pig says oink!\n"
     ]
    }
   ],
   "source": [
    "animal_sounds = {\n",
    "    'dog': 'bark',\n",
    "    'cat': 'meow',\n",
    "    'pig': 'oink'\n",
    "}\n",
    "\n",
    "for animal, sound in animal_sounds.items():\n",
    "    print(\"The \" + animal + \" says \" + sound + \"!\")"
   ]
  },
  {
   "cell_type": "markdown",
   "metadata": {
    "lang": "en"
   },
   "source": [
    "### List/dict comprehension\n",
    "\n",
    "Another sintax to use `for-loops` in python are called list comprehension. Are much\n",
    "more readable and widely used.\n",
    "\n",
    "This sintax returns a `list`. "
   ]
  },
  {
   "cell_type": "code",
   "execution_count": 81,
   "metadata": {
    "pycharm": {
     "is_executing": false,
     "name": "#%%\n"
    }
   },
   "outputs": [],
   "source": [
    "cool_animals = ['cat', 'dog', 'lion', 'bear']\n",
    "text = [animal + \"s are cool\" for animal in cool_animals]"
   ]
  },
  {
   "cell_type": "code",
   "execution_count": 82,
   "metadata": {},
   "outputs": [
    {
     "name": "stdout",
     "output_type": "stream",
     "text": [
      "['cats are cool', 'dogs are cool', 'lions are cool', 'bears are cool']\n"
     ]
    }
   ],
   "source": [
    "print(text)"
   ]
  },
  {
   "cell_type": "code",
   "execution_count": 84,
   "metadata": {},
   "outputs": [
    {
     "name": "stdout",
     "output_type": "stream",
     "text": [
      "Applause\n"
     ]
    }
   ],
   "source": [
    "print('Applause')"
   ]
  }
 ],
 "metadata": {
  "kernelspec": {
   "display_name": "Python 3",
   "language": "python",
   "name": "python3"
  },
  "language_info": {
   "codemirror_mode": {
    "name": "ipython",
    "version": 3
   },
   "file_extension": ".py",
   "mimetype": "text/x-python",
   "name": "python",
   "nbconvert_exporter": "python",
   "pygments_lexer": "ipython3",
   "version": "3.7.4"
  },
  "latex_envs": {
   "LaTeX_envs_menu_present": true,
   "autoclose": false,
   "autocomplete": true,
   "bibliofile": "biblio.bib",
   "cite_by": "apalike",
   "current_citInitial": 1,
   "eqLabelWithNumbers": true,
   "eqNumInitial": 1,
   "hotkeys": {
    "equation": "Ctrl-E",
    "itemize": "Ctrl-I"
   },
   "labels_anchors": false,
   "latex_user_defs": false,
   "report_style_numbering": false,
   "user_envs_cfg": false
  },
  "nbTranslate": {
   "displayLangs": [
    "es"
   ],
   "hotkey": "alt-t",
   "langInMainMenu": true,
   "sourceLang": "en",
   "targetLang": "es",
   "useGoogleTranslate": true
  },
  "pycharm": {
   "stem_cell": {
    "cell_type": "raw",
    "metadata": {
     "collapsed": false
    },
    "source": []
   }
  },
  "toc": {
   "base_numbering": 1,
   "nav_menu": {},
   "number_sections": true,
   "sideBar": true,
   "skip_h1_title": false,
   "title_cell": "Table of Contents",
   "title_sidebar": "Contents",
   "toc_cell": true,
   "toc_position": {
    "height": "calc(100% - 180px)",
    "left": "10px",
    "top": "150px",
    "width": "321.424px"
   },
   "toc_section_display": true,
   "toc_window_display": true
  }
 },
 "nbformat": 4,
 "nbformat_minor": 2
}
